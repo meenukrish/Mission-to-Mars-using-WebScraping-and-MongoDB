{
 "cells": [
  {
   "cell_type": "markdown",
   "metadata": {},
   "source": [
    "#### Import all the dependencies"
   ]
  },
  {
   "cell_type": "code",
   "execution_count": 28,
   "metadata": {},
   "outputs": [],
   "source": [
    "# Dependencies\n",
    "from bs4 import BeautifulSoup\n",
    "import requests\n",
    "from splinter import Browser\n",
    "import pymongo\n",
    "import pandas as pd\n",
    "from pprint import pprint\n",
    "import json"
   ]
  },
  {
   "cell_type": "markdown",
   "metadata": {},
   "source": [
    "#### Initialize PyMongo to work with MongoDBs"
   ]
  },
  {
   "cell_type": "code",
   "execution_count": 10,
   "metadata": {},
   "outputs": [],
   "source": [
    "conn = 'mongodb://localhost:27017'\n",
    "client = pymongo.MongoClient(conn)"
   ]
  },
  {
   "cell_type": "markdown",
   "metadata": {},
   "source": [
    "#### Initialize the variables to be used by splinter."
   ]
  },
  {
   "cell_type": "code",
   "execution_count": 11,
   "metadata": {},
   "outputs": [],
   "source": [
    "# #Initialize the variables to be used by splinter.\n",
    "# executable_path = {'executable_path': 'C:/UCB/chromedriver.exe'}\n",
    "# browser = Browser('chrome', **executable_path, headless=True)"
   ]
  },
  {
   "cell_type": "markdown",
   "metadata": {},
   "source": [
    "#### Create MongoDB Database and collection"
   ]
  },
  {
   "cell_type": "code",
   "execution_count": 12,
   "metadata": {},
   "outputs": [
    {
     "data": {
      "text/plain": [
       "Collection(Database(MongoClient(host=['localhost:27017'], document_class=dict, tz_aware=False, connect=True), 'Mars_db'), 'MarsDataCollection')"
      ]
     },
     "execution_count": 12,
     "metadata": {},
     "output_type": "execute_result"
    }
   ],
   "source": [
    "# Define database and collection\n",
    "db = client.Mars_db\n",
    "db.MarsDataCollection"
   ]
  },
  {
   "cell_type": "markdown",
   "metadata": {},
   "source": [
    "#### Browse the URL to be scraped and create BeautifulSoup object"
   ]
  },
  {
   "cell_type": "code",
   "execution_count": 29,
   "metadata": {},
   "outputs": [],
   "source": [
    "# URL of page to be scraped\n",
    "url = 'https://mars.nasa.gov'\n",
    "\n",
    "# Retrieve page with the requests module\n",
    "response = requests.get(url)\n",
    "# Create BeautifulSoup object; parse with 'lxml'\n",
    "soup = BeautifulSoup(response.text, 'lxml')\n"
   ]
  },
  {
   "cell_type": "markdown",
   "metadata": {},
   "source": [
    "### NASA Mars News\n",
    "\n",
    "Scrape the NASA Mars News Site and collect the latest News Title and Paragraph Text. Assign the text to variables that you can reference later."
   ]
  },
  {
   "cell_type": "code",
   "execution_count": 27,
   "metadata": {},
   "outputs": [
    {
     "name": "stdout",
     "output_type": "stream",
     "text": [
      "InSight Captures Sunrise and Sunset on Mars\n",
      "A camera on the spacecraft's robotic arm snapped the photos on April 24 and 25, the 145th Martian day, or sol, of the mission. In local Mars time, the shots were taken starting around 5:30 a.m. and then again starting around 6:30 p.m. As a bonus, a camera under the lander's deck also caught clouds drifting across the Martian sky at sunset.\n"
     ]
    }
   ],
   "source": [
    "# Finding NASA Mars News - scraping and collecting news_title and news_p\n",
    "\n",
    "results = soup.find_all('ul', class_='item_list list_view')\n",
    "\n",
    "# Loop through returned results\n",
    "for result in results:\n",
    "    # Error handling\n",
    "    try:\n",
    "        # Identify and return title of Latest news\n",
    "        anchortag = result.find('div', class_='list_text').find('a')\n",
    "        news_title = anchortag.text\n",
    "        print(news_title)\n",
    "               \n",
    "        # Identify and return link to Latest news item\n",
    "        partiallink = anchortag['href']\n",
    "        \n",
    "        #Form the URL to the latest news \n",
    "        newsurl = url+partiallink\n",
    "        \n",
    "        # use Splinter to browse to the news page\n",
    "        #Initialize the variables to be used by splinter.\n",
    "        executable_path = {'executable_path': 'C:/UCB/chromedriver.exe'}\n",
    "        browser = Browser('chrome', **executable_path, headless=True)\n",
    "        browser.visit(newsurl)\n",
    "        \n",
    "        #obtain the html of the page\n",
    "        newsresp = requests.get(newsurl)\n",
    "                  \n",
    "        # Create BeautifulSoup object; parse with 'lxml'\n",
    "        news_soup = BeautifulSoup(newsresp.text, 'lxml')\n",
    "        news_results = news_soup.find_all('div', class_=\"wysiwyg_content\")\n",
    "        for news in news_results:\n",
    "            \n",
    "            ptags = news.find_all('p')\n",
    "          \n",
    "            for ptag in ptags:\n",
    "                \n",
    "                if ptag.text:\n",
    "                    news_p = ptag.text\n",
    "                    print(news_p)\n",
    "                    break\n",
    "                else:\n",
    "                    continue\n",
    "            break\n",
    " \n",
    "    except Exception as e:\n",
    "        print(e)\n"
   ]
  },
  {
   "cell_type": "markdown",
   "metadata": {},
   "source": [
    "### JPL Mars Space Images - Featured Image\n",
    "\n",
    "\n"
   ]
  },
  {
   "cell_type": "code",
   "execution_count": 92,
   "metadata": {
    "scrolled": true
   },
   "outputs": [],
   "source": [
    "# Visit the url for JPL Featured Space Image here.\n",
    "\n",
    "JPLurl = 'https://www.jpl.nasa.gov/spaceimages/?search=&category=Mars'\n",
    "\n",
    "#Use splinter to navigate the site and find the image url for the current Featured Mars Image and \n",
    "#assign the url string to a variable\n",
    "\n",
    "browser.visit(JPLurl)\n",
    "JPLresp = requests.get(JPLurl)  \n",
    "\n",
    "# Create BeautifulSoup object; parse with 'lxml'\n",
    "JPL_soup = BeautifulSoup(JPLresp.text, 'lxml')\n",
    "\n",
    "FullImgbuttontag= JPL_soup.find('a', class_=\"button fancybox\")"
   ]
  },
  {
   "cell_type": "code",
   "execution_count": 93,
   "metadata": {},
   "outputs": [
    {
     "name": "stdout",
     "output_type": "stream",
     "text": [
      "https://www.jpl.nasa.gov/spaceimages/details.php?id=PIA19382\n"
     ]
    }
   ],
   "source": [
    "# Constructing the URL to the Image article\n",
    "spaceurl = (browser.url).split(\"?\")[0]\n",
    "partialURL = FullImgbuttontag['data-link'].split(\"spaceimages/\")[1]\n",
    "imgartURL = spaceurl+partialURL\n",
    "\n",
    "print(imgartURL)"
   ]
  },
  {
   "cell_type": "code",
   "execution_count": 94,
   "metadata": {},
   "outputs": [],
   "source": [
    "browser.visit(imgartURL)\n",
    "imgresp = requests.get(imgartURL)  \n",
    "\n",
    "# Create BeautifulSoup object; parse with 'lxml'\n",
    "img_soup = BeautifulSoup(imgresp.text, 'lxml')"
   ]
  },
  {
   "cell_type": "markdown",
   "metadata": {},
   "source": [
    "#### JPL Mars Space Images - Featured Image"
   ]
  },
  {
   "cell_type": "code",
   "execution_count": 95,
   "metadata": {},
   "outputs": [
    {
     "name": "stdout",
     "output_type": "stream",
     "text": [
      "https://www.jpl.nasa.gov/spaceimages/images/largesize/PIA19382_hires.jpg\n"
     ]
    }
   ],
   "source": [
    "figtag = img_soup.find('figure', class_=\"lede\")\n",
    "imgtaghref = figtag.find('a')['href'].split(\"/spaceimages/\")[1]\n",
    "\n",
    "featured_image_url = spaceurl+imgtaghref\n",
    "\n",
    "print(featured_image_url)"
   ]
  },
  {
   "cell_type": "markdown",
   "metadata": {},
   "source": [
    "#### Mars Weather"
   ]
  },
  {
   "cell_type": "code",
   "execution_count": 119,
   "metadata": {},
   "outputs": [
    {
     "name": "stdout",
     "output_type": "stream",
     "text": [
      "InSight sol 155 (2019-05-04) low -99.3ºC (-146.8ºF) high -18.8ºC (-1.8ºF)\n",
      "winds from the SW at 4.5 m/s (10.1 mph) gusting to 14.3 m/s (31.9 mph)\n",
      "pressure at 7.40 hPa\n"
     ]
    }
   ],
   "source": [
    "marstwitterurl = \"https://twitter.com/marswxreport?lang=en\"\n",
    "tweetresp = requests.get(marstwitterurl)  \n",
    "\n",
    "tweet_soup = BeautifulSoup(tweetresp.text, 'lxml')\n",
    "\n",
    "\n",
    "for eachlitag in tweet_soup.find_all('li', class_=\"stream-item\"):      # Loop through all tweets\n",
    "    \n",
    "    contentdiv = eachlitag.find('div', class_=\"content\")                    # content div\n",
    "    divstreamheader = contentdiv.find('div', class_=\"stream-item-header\")   #finding stream-item-header to identify the user\n",
    "    atagdivstream = divstreamheader.find('a')\n",
    " \n",
    "    if atagdivstream['href'] =='/MarsWxReport':                                   # Filtering tweet from MarsWxReport\n",
    "        ptagtweet = contentdiv.find('div', class_=\"js-tweet-text-container\").find('p')  # find the ptag with the tweetcontent\n",
    "        ptagtweet.a.decompose()                                     # remove the anchor tag with the <p> tag\n",
    "        mars_weather = ptagtweet.text\n",
    "        break\n",
    "    else:\n",
    "        continue\n",
    "    \n",
    " "
   ]
  },
  {
   "cell_type": "markdown",
   "metadata": {},
   "source": [
    "### Mars Facts"
   ]
  },
  {
   "cell_type": "code",
   "execution_count": 46,
   "metadata": {},
   "outputs": [],
   "source": [
    "factsurl = \"https://space-facts.com/mars/\"\n",
    "\n",
    "#use Pandas to scrape the table containing facts about the planet including Diameter, Mass, etc.\n",
    "tables = pd.read_html(factsurl)\n",
    "\n",
    "factsdf = tables[0]\n",
    "factsdf.columns = [\"Description\" , \"Values\"]"
   ]
  },
  {
   "cell_type": "code",
   "execution_count": 47,
   "metadata": {},
   "outputs": [
    {
     "data": {
      "text/html": [
       "<div>\n",
       "<style scoped>\n",
       "    .dataframe tbody tr th:only-of-type {\n",
       "        vertical-align: middle;\n",
       "    }\n",
       "\n",
       "    .dataframe tbody tr th {\n",
       "        vertical-align: top;\n",
       "    }\n",
       "\n",
       "    .dataframe thead th {\n",
       "        text-align: right;\n",
       "    }\n",
       "</style>\n",
       "<table border=\"1\" class=\"dataframe\">\n",
       "  <thead>\n",
       "    <tr style=\"text-align: right;\">\n",
       "      <th></th>\n",
       "      <th>Description</th>\n",
       "      <th>Values</th>\n",
       "    </tr>\n",
       "  </thead>\n",
       "  <tbody>\n",
       "    <tr>\n",
       "      <th>0</th>\n",
       "      <td>Equatorial Diameter:</td>\n",
       "      <td>6,792 km</td>\n",
       "    </tr>\n",
       "    <tr>\n",
       "      <th>1</th>\n",
       "      <td>Polar Diameter:</td>\n",
       "      <td>6,752 km</td>\n",
       "    </tr>\n",
       "    <tr>\n",
       "      <th>2</th>\n",
       "      <td>Mass:</td>\n",
       "      <td>6.42 x 10^23 kg (10.7% Earth)</td>\n",
       "    </tr>\n",
       "    <tr>\n",
       "      <th>3</th>\n",
       "      <td>Moons:</td>\n",
       "      <td>2 (Phobos &amp; Deimos)</td>\n",
       "    </tr>\n",
       "    <tr>\n",
       "      <th>4</th>\n",
       "      <td>Orbit Distance:</td>\n",
       "      <td>227,943,824 km (1.52 AU)</td>\n",
       "    </tr>\n",
       "  </tbody>\n",
       "</table>\n",
       "</div>"
      ],
      "text/plain": [
       "            Description                         Values\n",
       "0  Equatorial Diameter:                       6,792 km\n",
       "1       Polar Diameter:                       6,752 km\n",
       "2                 Mass:  6.42 x 10^23 kg (10.7% Earth)\n",
       "3                Moons:            2 (Phobos & Deimos)\n",
       "4       Orbit Distance:       227,943,824 km (1.52 AU)"
      ]
     },
     "execution_count": 47,
     "metadata": {},
     "output_type": "execute_result"
    }
   ],
   "source": [
    "# display the content of the DataFrame\n",
    "factsdf.head()"
   ]
  },
  {
   "cell_type": "code",
   "execution_count": 6,
   "metadata": {},
   "outputs": [],
   "source": [
    "#Use Pandas to convert the data to a HTML table string.\n",
    "MarsFacts_table=factsdf.to_html()"
   ]
  },
  {
   "cell_type": "code",
   "execution_count": 48,
   "metadata": {},
   "outputs": [],
   "source": [
    "factsdf.reset_index(drop=True, inplace=True)"
   ]
  },
  {
   "cell_type": "code",
   "execution_count": 52,
   "metadata": {},
   "outputs": [],
   "source": [
    "marsfactsdesc = factsdf[\"Description\"].tolist()\n",
    "marsfactsvalues= factsdf[\"Values\"].tolist()"
   ]
  },
  {
   "cell_type": "code",
   "execution_count": 53,
   "metadata": {},
   "outputs": [
    {
     "name": "stdout",
     "output_type": "stream",
     "text": [
      "<zip object at 0x0000019D845CE748>\n"
     ]
    }
   ],
   "source": [
    "print(marsfacts)"
   ]
  },
  {
   "cell_type": "code",
   "execution_count": 43,
   "metadata": {},
   "outputs": [
    {
     "name": "stdout",
     "output_type": "stream",
     "text": [
      "['6,792 km', '6,752 km', '6.42 x 10^23 kg (10.7% Earth)', '2 (Phobos & Deimos)', '227,943,824 km (1.52 AU)', '687 days (1.9 years)', '-153 to 20 °C', '2nd millennium BC', 'Egyptian astronomers']\n"
     ]
    }
   ],
   "source": [
    "print(marsfactsvalues)"
   ]
  },
  {
   "cell_type": "markdown",
   "metadata": {},
   "source": [
    "### Mars Hemispheres"
   ]
  },
  {
   "cell_type": "code",
   "execution_count": 129,
   "metadata": {},
   "outputs": [],
   "source": [
    "#Visit the USGS Astrogeology site here to obtain high resolution images for each of Mar's hemispheres.\n",
    "hemi_url = \"https://astrogeology.usgs.gov/search/results?q=hemisphere+enhanced&k1=target&v1=Mars\""
   ]
  },
  {
   "cell_type": "code",
   "execution_count": 130,
   "metadata": {},
   "outputs": [],
   "source": [
    "hemi_result = requests.get(hemi_url)\n",
    "hemi_soup = BeautifulSoup(hemi_result.text, \"lxml\")\n"
   ]
  },
  {
   "cell_type": "code",
   "execution_count": 149,
   "metadata": {},
   "outputs": [
    {
     "name": "stdout",
     "output_type": "stream",
     "text": [
      "[{'img_url': 'http://astropedia.astrogeology.usgs.gov/download/Mars/Viking/cerberus_enhanced.tif/full.jpg',\n",
      "  'title': 'Cerberus Hemisphere Enhanced'},\n",
      " {'img_url': 'http://astropedia.astrogeology.usgs.gov/download/Mars/Viking/schiaparelli_enhanced.tif/full.jpg',\n",
      "  'title': 'Schiaparelli Hemisphere Enhanced'},\n",
      " {'img_url': 'http://astropedia.astrogeology.usgs.gov/download/Mars/Viking/syrtis_major_enhanced.tif/full.jpg',\n",
      "  'title': 'Syrtis Major Hemisphere Enhanced'},\n",
      " {'img_url': 'http://astropedia.astrogeology.usgs.gov/download/Mars/Viking/valles_marineris_enhanced.tif/full.jpg',\n",
      "  'title': 'Valles Marineris Hemisphere Enhanced'}]\n"
     ]
    }
   ],
   "source": [
    "# scraping the data\n",
    "resultitems = hemi_soup.find('div' , class_=\"collapsible results\").find_all('div', class_=\"item\")\n",
    "\n",
    "hemisphere_image_urls =[]\n",
    "eachhemisphere = {}\n",
    "\n",
    "Astrourldomain = hemi_url.split(\"/search\")[0]\n",
    "\n",
    "for item in resultitems:\n",
    "    title = item.find('h3').text\n",
    "    \n",
    "    itempartialurl = item.find('a')['href']\n",
    "    #url to browse\n",
    "    itemurl = Astrourldomain+itempartialurl\n",
    "    \n",
    "    # browse to the url\n",
    "    browser.visit(itemurl)\n",
    "    hemi_item_result = requests.get(itemurl)\n",
    "    hemi_item_soup = BeautifulSoup(hemi_item_result.text, \"lxml\")\n",
    "    \n",
    "    aimgtag = hemi_item_soup.find('div', class_=\"downloads\").find('a')\n",
    "    img_url = aimgtag['href']\n",
    "   \n",
    "    eachhemisphere = {\"title\":title, \"img_url\":img_url}\n",
    "    hemisphere_image_urls.append(eachhemisphere)\n",
    "\n",
    "pprint(hemisphere_image_urls)"
   ]
  }
 ],
 "metadata": {
  "kernelspec": {
   "display_name": "Python 3",
   "language": "python",
   "name": "python3"
  },
  "language_info": {
   "codemirror_mode": {
    "name": "ipython",
    "version": 3
   },
   "file_extension": ".py",
   "mimetype": "text/x-python",
   "name": "python",
   "nbconvert_exporter": "python",
   "pygments_lexer": "ipython3",
   "version": "3.7.1"
  },
  "varInspector": {
   "cols": {
    "lenName": 16,
    "lenType": 16,
    "lenVar": 40
   },
   "kernels_config": {
    "python": {
     "delete_cmd_postfix": "",
     "delete_cmd_prefix": "del ",
     "library": "var_list.py",
     "varRefreshCmd": "print(var_dic_list())"
    },
    "r": {
     "delete_cmd_postfix": ") ",
     "delete_cmd_prefix": "rm(",
     "library": "var_list.r",
     "varRefreshCmd": "cat(var_dic_list()) "
    }
   },
   "types_to_exclude": [
    "module",
    "function",
    "builtin_function_or_method",
    "instance",
    "_Feature"
   ],
   "window_display": false
  }
 },
 "nbformat": 4,
 "nbformat_minor": 2
}
